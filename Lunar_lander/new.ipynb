{
 "cells": [
  {
   "cell_type": "code",
   "execution_count": 1,
   "id": "58caf24c",
   "metadata": {},
   "outputs": [],
   "source": [
    "import gymnasium as gym\n",
    "import numpy as np"
   ]
  },
  {
   "cell_type": "code",
   "execution_count": 2,
   "id": "b40cf240",
   "metadata": {},
   "outputs": [
    {
     "name": "stderr",
     "output_type": "stream",
     "text": [
      "C:\\Users\\ayush\\AppData\\Roaming\\Python\\Python313\\site-packages\\pygame\\pkgdata.py:25: UserWarning: pkg_resources is deprecated as an API. See https://setuptools.pypa.io/en/latest/pkg_resources.html. The pkg_resources package is slated for removal as early as 2025-11-30. Refrain from using this package or pin to Setuptools<81.\n",
      "  from pkg_resources import resource_stream, resource_exists\n"
     ]
    },
    {
     "name": "stdout",
     "output_type": "stream",
     "text": [
      "_____OBSERVATION SPACE_____ \n",
      "\n",
      "Observation Space Shape (8,)\n",
      "Sample observation [-0.28151593 -1.6177502  -4.772857    4.4483733  -0.6844411   3.9497395\n",
      "  0.6303274   0.3603528 ]\n",
      "\n",
      " _____ACTION SPACE_____ \n",
      "\n",
      "Action Space Shape 4\n",
      "Action Space Sample 1\n"
     ]
    }
   ],
   "source": [
    "env = gym.make(\"LunarLander-v3\")\n",
    "# observation, info = env.reset()\n",
    "print(\"_____OBSERVATION SPACE_____ \\n\")\n",
    "print(\"Observation Space Shape\", env.observation_space.shape)\n",
    "print(\"Sample observation\", env.observation_space.sample())\n",
    "print(\"\\n _____ACTION SPACE_____ \\n\")\n",
    "print(\"Action Space Shape\", env.action_space.n)\n",
    "print(\"Action Space Sample\", env.action_space.sample())"
   ]
  },
  {
   "cell_type": "code",
   "execution_count": 3,
   "id": "87cf7422",
   "metadata": {},
   "outputs": [
    {
     "name": "stdout",
     "output_type": "stream",
     "text": [
      "Episode: 1, Action: 0, Score: -28.399937988288087\n",
      "Episode: 2, Action: 0, Score: -128.20689433282766\n",
      "Episode: 3, Action: 1, Score: -135.7640357825592\n",
      "Episode: 4, Action: 2, Score: -122.72749129438401\n"
     ]
    },
    {
     "name": "stderr",
     "output_type": "stream",
     "text": [
      "C:\\Users\\ayush\\AppData\\Roaming\\Python\\Python313\\site-packages\\gymnasium\\envs\\box2d\\lunar_lander.py:672: UserWarning: \u001b[33mWARN: You are calling render method without specifying any render mode. You can specify the render_mode at initialization, e.g. gym.make(\"LunarLander-v3\", render_mode=\"rgb_array\")\u001b[0m\n",
      "  gym.logger.warn(\n"
     ]
    }
   ],
   "source": [
    "for episode in range(4):\n",
    "    observation, info = env.reset()\n",
    "    done = False\n",
    "    score=0\n",
    "    while not done:\n",
    "        env.render()  # Render the environment\n",
    "        action = env.action_space.sample()\n",
    "        n_observation, reward, done,_,_ = env.step(action)\n",
    "        score+= reward\n",
    "\n",
    "    print(f\"Episode: {episode + 1}, Action: {action}, Score: {score}\")\n",
    "env.close()  # Close the environment when done"
   ]
  },
  {
   "cell_type": "code",
   "execution_count": 4,
   "id": "f3da3e6f",
   "metadata": {},
   "outputs": [],
   "source": [
    "from stable_baselines3 import PPO\n",
    "from stable_baselines3.common.vec_env import DummyVecEnv\n",
    "from stable_baselines3.common.evaluation import evaluate_policy\n",
    "from stable_baselines3.common.env_util import make_vec_env\n",
    "from stable_baselines3.common.monitor import Monitor\n",
    "import numpy as np\n",
    "import matplotlib.pyplot as plt\n",
    "from tqdm import tqdm\n",
    "import torch"
   ]
  },
  {
   "cell_type": "code",
   "execution_count": null,
   "id": "6a04502e",
   "metadata": {},
   "outputs": [
    {
     "name": "stdout",
     "output_type": "stream",
     "text": [
      "Using cpu device\n",
      "Wrapping the env with a `Monitor` wrapper\n",
      "Wrapping the env in a DummyVecEnv.\n"
     ]
    }
   ],
   "source": [
    "# %% Check GPU availability\n",
    "device = torch.device(\"cuda\" if torch.cuda.is_available() else \"cpu\")\n",
    "print(\"Using device:\", device)\n",
    "\n",
    "# %% Create the training environment\n",
    "env = Monitor(gym.make(\"LunarLander-v3\"))\n",
    "\n",
    "# %% Initialize the model (on GPU if available)\n",
    "model = PPO(\n",
    "    policy=\"MlpPolicy\",\n",
    "    env=env,\n",
    "    n_steps=1024,\n",
    "    batch_size=64,\n",
    "    n_epochs=4,\n",
    "    gamma=0.999,\n",
    "    gae_lambda=0.98,\n",
    "    ent_coef=0.01,\n",
    "    verbose=1,\n",
    "    device=device  # 👈 Move model to GPU\n",
    ")\n",
    "\n",
    "# %% Track rewards manually\n",
    "timesteps_per_iteration = 10000\n",
    "total_timesteps = 1000000\n",
    "reward_means = []\n",
    "timestep_x = []\n",
    "\n",
    "# %% Training with tqdm\n",
    "for i in tqdm(range(total_timesteps // timesteps_per_iteration), desc=\"Training Progress\"):\n",
    "    model.learn(total_timesteps=timesteps_per_iteration, reset_num_timesteps=False)\n",
    "    \n",
    "    # Evaluate after each chunk\n",
    "    eval_env = Monitor(gym.make(\"LunarLander-v3\"))\n",
    "    mean_reward, std_reward = evaluate_policy(model, eval_env, n_eval_episodes=5, deterministic=True)\n",
    "    \n",
    "    reward_means.append(mean_reward)\n",
    "    timestep_x.append((i + 1) * timesteps_per_iteration)\n",
    "\n",
    "    print(f\"[{(i+1)*timesteps_per_iteration}] Mean Reward: {mean_reward:.2f} ± {std_reward:.2f}\")\n",
    "\n",
    "# %% Save the trained model\n",
    "model_name = \"ppo-LunarLander-v3\"\n",
    "model.save(model_name)\n",
    "\n",
    "# %% Plot the rewards\n",
    "plt.plot(timestep_x, reward_means)\n",
    "plt.xlabel(\"Timesteps\")\n",
    "plt.ylabel(\"Mean Reward\")\n",
    "plt.title(\"PPO LunarLander-v3 Training Reward Curve\")\n",
    "plt.grid()\n",
    "plt.show()"
   ]
  },
  {
   "cell_type": "code",
   "execution_count": 5,
   "id": "61c5ec08",
   "metadata": {},
   "outputs": [],
   "source": [
    "env= gym.make(\"LunarLander-v3\")\n",
    "# env = make_vec_env(\"LunarLander-v2\", n_envs=16)\n",
    "model = PPO.load(\"ppo-LunarLander-v3.zip\")\n"
   ]
  },
  {
   "cell_type": "code",
   "execution_count": null,
   "id": "42e645f4",
   "metadata": {},
   "outputs": [
    {
     "name": "stdout",
     "output_type": "stream",
     "text": [
      "mean_reward=249.26 +/- 47.84990896782074\n"
     ]
    },
    {
     "ename": "",
     "evalue": "",
     "output_type": "error",
     "traceback": [
      "\u001b[1;31mThe Kernel crashed while executing code in the current cell or a previous cell. \n",
      "\u001b[1;31mPlease review the code in the cell(s) to identify a possible cause of the failure. \n",
      "\u001b[1;31mClick <a href='https://aka.ms/vscodeJupyterKernelCrash'>here</a> for more info. \n",
      "\u001b[1;31mView Jupyter <a href='command:jupyter.viewOutput'>log</a> for further details."
     ]
    }
   ],
   "source": [
    "from stable_baselines3.common.monitor import Monitor\n",
    "eval_env = Monitor(gym.make(\"LunarLander-v3\",render_mode=\"human\"))\n",
    "mean_reward, std_reward = evaluate_policy(model, eval_env, n_eval_episodes=10, deterministic=True)\n",
    "print(f\"mean_reward={mean_reward:.2f} +/- {std_reward}\")"
   ]
  }
 ],
 "metadata": {
  "kernelspec": {
   "display_name": "Python 3",
   "language": "python",
   "name": "python3"
  },
  "language_info": {
   "codemirror_mode": {
    "name": "ipython",
    "version": 3
   },
   "file_extension": ".py",
   "mimetype": "text/x-python",
   "name": "python",
   "nbconvert_exporter": "python",
   "pygments_lexer": "ipython3",
   "version": "3.13.1"
  }
 },
 "nbformat": 4,
 "nbformat_minor": 5
}
